{
  "cells": [
    {
      "cell_type": "markdown",
      "metadata": {
        "id": "view-in-github",
        "colab_type": "text"
      },
      "source": [
        "<a href=\"https://colab.research.google.com/github/ekene0013/Analyzing-the-World-Economies-using-Machine-Learning-Approach/blob/main/Derivative_Pricing%2C_Group_Work_Project_2.ipynb\" target=\"_parent\"><img src=\"https://colab.research.google.com/assets/colab-badge.svg\" alt=\"Open In Colab\"/></a>"
      ]
    },
    {
      "cell_type": "markdown",
      "metadata": {
        "id": "4F-8zGoojB-H"
      },
      "source": [
        "\n",
        "**Scenario**\n",
        "\n",
        "**This assignment uses similar questions as for the GWP1 assignment that you submitted in Week 3; however, for this submission, you will use a DIFFERENT PRICING METHOD. Unless stated otherwise, use the same input data as the referenced question in GWP#1**\n",
        "\n",
        "\n",
        "**Step 1 – Here, you will repeat questions 5, 6, and 7 from GWP#1 under different pricing methods for European options. Specifically:**\n",
        "S=100; r = 5%; σ = 20%; T = 3 months"
      ]
    },
    {
      "cell_type": "markdown",
      "metadata": {
        "id": "3vnwezvhjB-I"
      },
      "source": [
        "**1. Team Member A will repeat questions 5, 6, and 7 of GWP1 using the Black-Scholes closed-form solution to price the different European Options. For Q7 on vega, you can use Black-Scholes closed-form solution.**\n",
        "\n",
        "\n",
        "\n",
        "\n",
        "\n",
        "\n"
      ]
    },
    {
      "cell_type": "markdown",
      "source": [
        "**5 (a) An overview on the calcuated estimates**\n",
        "\n",
        "A put option offers the holder the right to sell the underlying asset at a given strike price but not the responsibility to do so, whereas a call option gives the holder the right to buy the underlying asset at a specified strike price but not the obligation to do so. We use time-based adjustments, as well as computations of intermediate variables (d minus and d plus) that were used to calculate option prices using a cumulative distribution function, to achieve the computation for a Black-Scholes closed form.\n",
        "\n",
        "Following the computation below, the call is valued at 4.61 US dollars, while the put is worth 3.37 US dollars. The call and put option prices are in line with our expectations given how option prices have behaved in respect to the parameters we chose for the current stock price, the strike price, the period till expiration, and volatility. Ultimately, the Black-Scholes model serves as a cornerstone for investors to gauge options' intrinsic worth, providing a standardized approach to navigate the intricacies of option pricing within complex financial markets. [link text](https:// [link text](https://))"
      ],
      "metadata": {
        "id": "d5ew3iF10Xo8"
      }
    },
    {
      "cell_type": "code",
      "source": [
        "import math\n",
        "\n",
        "# Black-Scholes formula for European call option price\n",
        "def black_scholes_call(S, K, T, r, sigma):\n",
        "    d1 = (math.log(S / K) + (r + 0.5 * sigma**2) * T) / (sigma * math.sqrt(T))\n",
        "    d2 = d1 - sigma * math.sqrt(T)\n",
        "    N_d1 = 0.5 * (1 + math.erf(d1 / math.sqrt(2)))\n",
        "    N_d2 = 0.5 * (1 + math.erf(d2 / math.sqrt(2)))\n",
        "    call_price = S * N_d1 - K * math.exp(-r * T) * N_d2\n",
        "    return call_price\n",
        "\n",
        "# Black-Scholes formula for European put option price\n",
        "def black_scholes_put(S, K, T, r, sigma):\n",
        "    d1 = (math.log(S / K) + (r + 0.5 * sigma**2) * T) / (sigma * math.sqrt(T))\n",
        "    d2 = d1 - sigma * math.sqrt(T)\n",
        "    N_neg_d1 = 0.5 * (1 - math.erf(d1 / math.sqrt(2)))\n",
        "    N_neg_d2 = 0.5 * (1 - math.erf(d2 / math.sqrt(2)))\n",
        "    put_price = K * math.exp(-r * T) * N_neg_d2 - S * N_neg_d1\n",
        "    return put_price\n",
        "\n",
        "# Given parameters\n",
        "S0 = 100   # Initial stock price\n",
        "K = 100    # Strike price\n",
        "T = 0.25   # Time to expiration in years\n",
        "r = 0.05   # Risk-free rate\n",
        "sigma = 0.2  # Volatility\n",
        "\n",
        "# Calculate option prices using Black-Scholes formula\n",
        "call_price = black_scholes_call(S0, K, T, r, sigma)\n",
        "put_price = black_scholes_put(S0, K, T, r, sigma)\n",
        "\n",
        "print(\"Black-Scholes European Call Option Price:\", call_price)\n",
        "print(\"Black-Scholes European Put Option Price:\", put_price)\n"
      ],
      "metadata": {
        "colab": {
          "base_uri": "https://localhost:8080/"
        },
        "id": "b0olBfek4iTH",
        "outputId": "d8fdca17-4364-4857-b49d-b9815c66c8f2"
      },
      "execution_count": null,
      "outputs": [
        {
          "output_type": "stream",
          "name": "stdout",
          "text": [
            "Black-Scholes European Call Option Price: 4.614997129602855\n",
            "Black-Scholes European Put Option Price: 3.372777178991008\n"
          ]
        }
      ]
    },
    {
      "cell_type": "markdown",
      "source": [
        "**5(b) Briefly describe the overall process**\n",
        "\n",
        "For pricing European call and put options, the Black-Scholes closed-form solution is derived by building a framework that takes important financial considerations into account. The underlying stock is assumed to follow geometric Brownian motion, which implies that the price changes continuously over time. Calculating the likelihood that the option will be in-the-money or out-of-the-money at expiration, as well as discounting those odds using the risk-free interest rate, are the key processes.\n",
        "\n",
        "For the European call option, the solution begins by determining the probability that the option will be exercised, given the stock price's distribution. This probability is obtained by calculating the cumulative distribution function of a standardized variable, which depends on the current stock price, the strike price, the risk-free rate, the time to expiration, and the volatility. Then, by considering the expected payoff at expiration and discounting it back, the call option's price can be estimated.\n",
        "\n",
        "Similarly, for European put options, the process involves evaluating the probability of the option being exercised based on the difference between the strike price and the stock price. The calculated probability is combined with the expected payoff at expiration to determine the put option's value. Through these steps, the Black-Scholes formula establishes a mathematical relationship between the option's price and the various parameters affecting it, providing a standardized means to assess the fair value of European options within dynamic financial environments (Schumacher, 2020)."
      ],
      "metadata": {
        "id": "DUDUdR8s0y3P"
      }
    },
    {
      "cell_type": "markdown",
      "source": [
        "**6. Compute the Greek Delta for the European call and European put at time 0:**\n",
        "\n",
        "The Greek Delta for the European call and European put at time 0 is 0.56 and -0.43, respectively, according to our analysis in the python code below:\n",
        "\n",
        "**(a) How do they compare?**\n",
        "\n",
        "The European Call Option's Greek delta (0.56) indicates that for a slight increase in the price of the underlying asset, the price of the call option is anticipated to rise by about 0.56 times the change in the underlying price. On the other hand, the Greek delta of the European Put Option (-0.43) shows that for a minor increase in the price of the underlying asset, the put option's price is anticipated to decline by roughly 0.43 times the change in the underlying price.\n",
        "\n",
        "**(b) Comment briefly on the differences and signs of Delta for both options.**\n",
        "A delta of 0.56 indicates that the call option is in-the-money (the strike price is lower than the current stock price), and that the option's value grows proportionately as the stock price increases. A Delta of -0.43 indicates that the put option is out-of-the-money (the strike price is greater than the current stock price), and when the stock price increases, the option's value lowers.\n",
        "\n",
        "**What does delta proxy for?**\n",
        "Delta serves as a key indicator of an option's price sensitivity to changes in the underlying asset's price.\n",
        "\n",
        "**Why does it make sense to obtain a positive/negative delta for each option?**\n",
        "A positive Delta for the European Call Option makes intuitive sense since a European call option benefits from price appreciation – when the stock price goes up, the option becomes more valuable because it grants the holder the right to buy the asset at a predetermined price. Similarly, a negative Delta for the European Put Option is expected for put options, as they profit from price declines – the option holder gains the ability to sell the asset at a strike price higher than its current market value.\n",
        "\n"
      ],
      "metadata": {
        "id": "q9rc4bqi1Qa6"
      }
    },
    {
      "cell_type": "code",
      "source": [
        "import math\n",
        "from scipy.stats import norm\n",
        "\n",
        "# Black-Scholes formula for European call option Delta\n",
        "def black_scholes_call_delta(S, K, T, r, sigma):\n",
        "    d1 = (math.log(S / K) + (r + 0.5 * sigma**2) * T) / (sigma * math.sqrt(T))\n",
        "    delta_call = math.exp(-r * T) * norm.cdf(d1)\n",
        "    return delta_call\n",
        "\n",
        "# Black-Scholes formula for European put option Delta\n",
        "def black_scholes_put_delta(S, K, T, r, sigma):\n",
        "    d1 = (math.log(S / K) + (r + 0.5 * sigma**2) * T) / (sigma * math.sqrt(T))\n",
        "    delta_put = math.exp(-r * T) * (norm.cdf(d1) - 1)\n",
        "    return delta_put\n",
        "\n",
        "# Given parameters\n",
        "S0 = 100   # Initial underlying asset price\n",
        "K = 100    # Strike price\n",
        "r = 0.05   # Risk-free rate\n",
        "sigma = 0.2  # Volatility\n",
        "T = 0.25   # Time to expiration in years\n",
        "\n",
        "# Calculate Delta using Black-Scholes formula\n",
        "call_delta = black_scholes_call_delta(S0, K, T, r, sigma)\n",
        "put_delta = black_scholes_put_delta(S0, K, T, r, sigma)\n",
        "\n",
        "print(\"Black-Scholes European Call Option Delta:\", call_delta)\n",
        "print(\"Black-Scholes European Put Option Delta:\", put_delta)\n"
      ],
      "metadata": {
        "colab": {
          "base_uri": "https://localhost:8080/"
        },
        "id": "FI5heeIG63tm",
        "outputId": "3b9375ce-f8d8-4837-bbf8-81b274dd7137"
      },
      "execution_count": null,
      "outputs": [
        {
          "output_type": "stream",
          "name": "stdout",
          "text": [
            "Black-Scholes European Call Option Delta: 0.5623862352010771\n",
            "Black-Scholes European Put Option Delta: -0.42519156529280433\n"
          ]
        }
      ]
    },
    {
      "cell_type": "markdown",
      "source": [
        "**Question 7 Delta measures one sensitivity of the option price. But there are other important sensitivities we will look at throughout the course. An important one is the sensitivity of the option price to the underlying volatility (vega).**\n",
        "\n",
        "**(a) Compute the sensitivity of previous put and call option prices to a 5% increase in volatility (from 20% to 25%). How do prices change with respect to the change in volatility?**\n",
        "\n",
        "The price of the European Call option increases from \\$4.61 to \\$4.81 when the volatility rises by 5% (from 20% to 25%). Similar to this, the price of the European Put option increases from \\$3.37 to \\$3.57 when the volatility rises by 5% (from 20% to 25%).\n",
        "\n",
        "**(b) Comment on the potential differential impact of this change for call and put options.**\n",
        "\n",
        "For the European Call option, the price elevation from \\$4.61 to \\$4.81 can be attributed to its positive relationship with volatility. The likelihood of more significant price changes in the underlying asset increases as volatility growsAs volatility rises, the potential for larger price movements in the underlying asset increases. Call option holders, who stand to earn from increases in stock price movements, may benefit from more significant price gains as a result of this increased uncertainty. The rise in the price of the Call option by \\$0.20 shows that the option's value reacts favorably to increased volatility, reflecting the possibility that the underlying asset would experience more significant price swings (Schumacher, 2020).\n",
        "\n",
        "On the other hand, the European Put option also witnesses a price increase from \\$3.37 to \\$3.57 due to the augmented volatility. This seemingly counterintuitive behavior can be explained by the fact that higher volatility increases the likelihood of big price falls, which is advantageous for Put option holders. The \\$0.20 increase in the price of the Put option illustrates that the option rises in value in reaction to increased volatility, aligning with the possibility of profiting from dropping stock prices. Overall, the difference in impact underscores the various roles that Call and Put options play in hedging against price movements brought on by fluctuating volatility, with Call options profiting from prospective price increases and Put options from potential price falls (Schumacher, 2020)."
      ],
      "metadata": {
        "id": "wnD215qMH7su"
      }
    },
    {
      "cell_type": "code",
      "source": [
        "import math\n",
        "from scipy.stats import norm\n",
        "\n",
        "# Black-Scholes formula for European call option price\n",
        "def black_scholes_call(S, K, T, r, sigma):\n",
        "    d1 = (math.log(S / K) + (r + 0.5 * sigma**2) * T) / (sigma * math.sqrt(T))\n",
        "    d2 = d1 - sigma * math.sqrt(T)\n",
        "    call_price = S * norm.cdf(d1) - K * math.exp(-r * T) * norm.cdf(d2)\n",
        "    return call_price\n",
        "\n",
        "# Black-Scholes formula for European put option price\n",
        "def black_scholes_put(S, K, T, r, sigma):\n",
        "    d1 = (math.log(S / K) + (r + 0.5 * sigma**2) * T) / (sigma * math.sqrt(T))\n",
        "    d2 = d1 - sigma * math.sqrt(T)\n",
        "    put_price = K * math.exp(-r * T) * norm.cdf(-d2) - S * norm.cdf(-d1)\n",
        "    return put_price\n",
        "\n",
        "# Given parameters\n",
        "S0 = 100   # Initial underlying asset price\n",
        "K = 100    # Strike price\n",
        "r = 0.05   # Risk-free rate\n",
        "sigma_initial = 0.20  # Initial volatility (20%)\n",
        "T = 0.25   # Time to expiration in years\n",
        "\n",
        "# Calculate initial option prices\n",
        "call_price_initial = black_scholes_call(S0, K, T, r, sigma_initial)\n",
        "put_price_initial = black_scholes_put(S0, K, T, r, sigma_initial)\n",
        "\n",
        "# Calculate option prices with increased volatility (25%)\n",
        "sigma_increased = sigma_initial * 1.05  # Increased by 5%\n",
        "call_price_increased_volatility = black_scholes_call(S0, K, T, r, sigma_increased)\n",
        "put_price_increased_volatility = black_scholes_put(S0, K, T, r, sigma_increased)\n",
        "\n",
        "# Calculate price changes due to the increase in volatility\n",
        "call_price_change = call_price_increased_volatility - call_price_initial\n",
        "put_price_change = put_price_increased_volatility - put_price_initial\n",
        "\n",
        "# Print the calculated values and comments\n",
        "print(\"Initial Option Prices:\")\n",
        "print(f\"Call Option Price: {call_price_initial:.2f}\")\n",
        "print(f\"Put Option Price: {put_price_initial:.2f}\\n\")\n",
        "\n",
        "print(\"Option Prices with 5% Increase in Volatility:\")\n",
        "print(f\"Call Option Price with Increased Volatility: {call_price_increased_volatility:.2f}\")\n",
        "print(f\"Put Option Price with Increased Volatility: {put_price_increased_volatility:.2f}\\n\")\n",
        "\n",
        "print(\"Price Changes due to Volatility Increase:\")\n",
        "print(f\"Call Option Price Change: {call_price_change:.2f}\")\n",
        "print(f\"Put Option Price Change: {put_price_change:.2f}\\n\")\n",
        "\n",
        "print(\"Comments on Differential Impact:\")\n",
        "print(\"Call option price increased with higher volatility.\")\n",
        "print(\"Put option price increased with higher volatility.\")\n"
      ],
      "metadata": {
        "colab": {
          "base_uri": "https://localhost:8080/"
        },
        "id": "vv0dO73i5tzW",
        "outputId": "50b743f1-2b3c-4712-b5ef-e8a213618f59"
      },
      "execution_count": null,
      "outputs": [
        {
          "output_type": "stream",
          "name": "stdout",
          "text": [
            "Initial Option Prices:\n",
            "Call Option Price: 4.61\n",
            "Put Option Price: 3.37\n",
            "\n",
            "Option Prices with 5% Increase in Volatility:\n",
            "Call Option Price with Increased Volatility: 4.81\n",
            "Put Option Price with Increased Volatility: 3.57\n",
            "\n",
            "Price Changes due to Volatility Increase:\n",
            "Call Option Price Change: 0.20\n",
            "Put Option Price Change: 0.20\n",
            "\n",
            "Comments on Differential Impact:\n",
            "Call option price increased with higher volatility.\n",
            "Put option price increased with higher volatility.\n"
          ]
        }
      ]
    },
    {
      "cell_type": "code",
      "source": [
        "from tabulate import tabulate\n",
        "\n",
        "# Prepare your data as a list of lists\n",
        "table_data = [\n",
        "    [\"5\", \"Call\", \"European\", \"Binomial\", \"BS\", \"4.16\", \"4.61\", \"-11%\"],\n",
        "    [\"5\", \"Put\", \"European\", \"Binomial\", \"BS\", \"3.75\", \"3.37\", \"10%\"],\n",
        "    [\"Row 3, Col 1\", \"Row 3, Col 2\", \"Row 3, Col 3\", \"Row 3, Col 4\", \"Row 3, Col 5\", \"Row 3, Col 6\", \"Row 3, Col 7\", \"Row 3, Col 8\"],\n",
        "    [\"Row 4, Col 1\", \"Row 4, Col 2\", \"Row 4, Col 3\", \"Row 4, Col 4\", \"Row 4, Col 5\", \"Row 4, Col 6\", \"Row 4, Col 7\", \"Row 4, Col 8\"]\n",
        "]\n",
        "\n",
        "# Define the title for the table\n",
        "table_title = \"Summary of Results\"\n",
        "\n",
        "# Define the table headers\n",
        "headers = [\"Q #\", \"Type\", \"Exer\", \"GWP 1 Method\", \"GWP 2 Method\", \"GWP 1 Price\", \"GWP 2 Price\", \"% Diff\"]\n",
        "\n",
        "# Format the table using tabulate\n",
        "table = tabulate(table_data, headers=headers, tablefmt=\"grid\")\n",
        "\n",
        "# Add the title above the table\n",
        "table_with_title = f\"{table_title}\\n\\n{table}\"\n",
        "\n",
        "# Print the formatted table\n",
        "print(table_with_title)\n"
      ],
      "metadata": {
        "colab": {
          "base_uri": "https://localhost:8080/"
        },
        "id": "vUe7joQqlSL1",
        "outputId": "8873e1bc-ffcf-4f95-9765-0a1b3813bdb5"
      },
      "execution_count": null,
      "outputs": [
        {
          "output_type": "stream",
          "name": "stdout",
          "text": [
            "Summary of Results\n",
            "\n",
            "+--------------+--------------+--------------+----------------+----------------+---------------+---------------+--------------+\n",
            "| Q #          | Type         | Exer         | GWP 1 Method   | GWP 2 Method   | GWP 1 Price   | GWP 2 Price   | % Diff       |\n",
            "+==============+==============+==============+================+================+===============+===============+==============+\n",
            "| 5            | Call         | European     | Binomial       | BS             | 4.16          | 4.61          | -11%         |\n",
            "+--------------+--------------+--------------+----------------+----------------+---------------+---------------+--------------+\n",
            "| 5            | Put          | European     | Binomial       | BS             | 3.75          | 3.37          | 10%          |\n",
            "+--------------+--------------+--------------+----------------+----------------+---------------+---------------+--------------+\n",
            "| Row 3, Col 1 | Row 3, Col 2 | Row 3, Col 3 | Row 3, Col 4   | Row 3, Col 5   | Row 3, Col 6  | Row 3, Col 7  | Row 3, Col 8 |\n",
            "+--------------+--------------+--------------+----------------+----------------+---------------+---------------+--------------+\n",
            "| Row 4, Col 1 | Row 4, Col 2 | Row 4, Col 3 | Row 4, Col 4   | Row 4, Col 5   | Row 4, Col 6  | Row 4, Col 7  | Row 4, Col 8 |\n",
            "+--------------+--------------+--------------+----------------+----------------+---------------+---------------+--------------+\n"
          ]
        }
      ]
    },
    {
      "cell_type": "markdown",
      "source": [
        "**2. Team member B will repeat questions 5, 6, and 7 of GWP1 using Monte-Carlo methods under a general GBM equation with daily time-steps in the simulations. As was the case with the number of time steps in the trees, make sure you run a large enough number of simulations. For Q7 here you can rely on the same intuition as in the trees, just ‘shock’ the volatility parameter and recalculate things.**\n",
        "\n"
      ],
      "metadata": {
        "id": "mb5f6wtaxmKJ"
      }
    },
    {
      "cell_type": "markdown",
      "source": [
        "**3. Team member C will be in charge of:**\n",
        "**a. Checking that Put-Call parity is satisfied under both methods (BS and MC).**\n",
        "**b. Compare and discuss the prices obtained in both methods: do they converge? why/why not?**\n",
        "\n"
      ],
      "metadata": {
        "id": "pSDRQZaBxmX0"
      }
    },
    {
      "cell_type": "markdown",
      "metadata": {
        "id": "b2IXH0h1rQ1_"
      },
      "source": [
        "**Step 2: In step 2, you will still work with the input data from questions from 5, 6, and 7 from GWP1, in this case for American derivatives. Specifically:**\n",
        "\n"
      ]
    },
    {
      "cell_type": "markdown",
      "source": [
        "**4. Team member A will use Monte-Carlo methods with regular GBM process and daily simulations on an American Call option. Remember to answer the different questions in the original GWP1: price (Q5), calculate delta (Q6) and vega (Q7) only for the Call option case.**\n",
        "\n",
        "\n"
      ],
      "metadata": {
        "id": "7D4-3HT4q8jx"
      }
    },
    {
      "cell_type": "markdown",
      "source": [
        "*See the the next python codes for the results*\n",
        "\n",
        "**(a) An overview on the calculated estimates**\n",
        "\n",
        "Based on the simulated stock price pathways and hypothetical early exercise decisions, the calculated American Call option price of 17.99 represents the projected value of the option. The average option payoff over all simulated pathways is represented by this value. The Geometric Brownian Motion process is used in the Monte Carlo method to generate a large number of random price movements, which are then used to calculate the related option payoffs at each time step. The algorithm chooses the best workout plan for each path and computes the option value by considering the possibility of early exercise (FinCampus Lecture Hall, 2013).\n",
        "\n",
        "Additionally, the calculated Delta of 0.01 illustrates how responsively the price of the American Call option is to changes in the price of the underlying stock. More specifically, a 0.01 increase would result from a 1 percent increase in the stock price (1 percent of the option price). The Vega of 4.99, on the other hand, emphasizes the effect of variations in volatility on the option price. The option price might grow by around 4.99 for every 1% increase in volatility. Investors are able to make educated judgments based on how changes in stock price and volatility may affect the option's value thanks to these measurements, which offer insights into the option's risk exposure and sensitivity to market circumstances.\n",
        "\n",
        "**(b) Compute the Greek Delta for the American call option at time 0:**\n",
        "\n",
        "The Greek Delta for the the American call option at time 0 is 0.01, according to our analysis in the python code below:\n",
        "\n",
        "**(i) How does it compare with the delta from American put?**\n",
        "\n",
        "The pace at which the option price changes in response to a 1% increase in the stock price is shown by the calculated deltas at time 0. If the American Call option's delta in this situation is 0.01 and the American Put option's delta is significantly different, it suggests that the call option's value is more sensitive to stock price changes than the put option at the beginning of the simulation, reflecting their different profit/loss characteristics as the stock price changes.\n",
        "\n",
        "**(ii) Comment briefly on the value and sign of Delta.**\n",
        "With a positive sign, the delta indicates that for every 1% increase in the stock price, the Call option's price is projected to increase by 0.01, reflecting its potential to capture gains from upward stock movements. This delta value offers a concise measure of the Call option's immediate responsiveness to fluctuations in the stock price, playing a pivotal role in risk management and decision-making for option traders and investors.\n",
        "\n",
        "**(iii) What does delta proxy for?**\n",
        "Delta serves as a measure of sensitivity, guiding traders and investors in understanding the potential impact of stock price movements on their option positions. In the context of Monte Carlo simulations, delta is calculated by perturbing the stock price in each simulation run and observing how the option price responds, allowing for the estimation of this key risk metric.\n",
        "\n",
        "**(iv) Why does it make sense to obtain a positive delta for the American call option?**\n",
        "Obtaining a positive delta for the American Call option makes sense due to the inherent characteristics of call options and their relationship with the underlying asset. A positive delta means that the value of the option is anticipated to climb along with the price of the underlying stock. The right to purchase the underlying asset at a defined strike price is provided by an American Call option, giving the holder the chance to profit from possible price growth. Because the option holder can buy the asset at a lower price (the strike price) and sell it in the market at a higher price, capturing the price difference, the call option gains value as the stock price increases (FinCampus Lecture Hall, 2013).\n"
      ],
      "metadata": {
        "id": "2uUn9O6-cq8x"
      }
    },
    {
      "cell_type": "code",
      "source": [
        "import numpy as np\n",
        "from scipy.stats import norm\n",
        "\n",
        "# Given parameters\n",
        "S0 = 100  # Initial stock price\n",
        "r = 0.05  # Risk-free rate\n",
        "sigma = 0.20  # Volatility\n",
        "T = 3 / 12  # Time horizon in years\n",
        "N = 90  # Number of trading days in 3 months\n",
        "M = 10000  # Number of simulations\n",
        "\n",
        "# Generate random price movements\n",
        "np.random.seed(42)\n",
        "rand_numbers = np.random.normal(size=(M, N))\n",
        "\n",
        "# Calculate daily returns\n",
        "daily_returns = np.exp((r - 0.5 * sigma ** 2) * (1 / N) + sigma * np.sqrt(1 / N) * rand_numbers)\n",
        "\n",
        "# Create stock price paths\n",
        "stock_paths = np.zeros((M, N + 1))\n",
        "stock_paths[:, 0] = S0\n",
        "for i in range(1, N + 1):\n",
        "    stock_paths[:, i] = stock_paths[:, i - 1] * daily_returns[:, i - 1]\n",
        "\n",
        "# Calculate option payoffs at each time step\n",
        "call_payoffs = np.maximum(stock_paths - S0, 0)\n",
        "\n",
        "# Initialize option value arrays\n",
        "call_values = np.zeros((M, N + 1))\n",
        "call_values[:, -1] = call_payoffs[:, -1]\n",
        "\n",
        "# Calculate option values at each time step using backward induction\n",
        "for i in range(N - 1, -1, -1):\n",
        "    intrinsic_value = np.maximum(stock_paths[:, i] - S0, 0)\n",
        "    discounted_future_values = np.exp(-r * (1 / N)) * call_values[:, i + 1]\n",
        "    early_exercise_value = np.maximum(intrinsic_value, discounted_future_values)\n",
        "    call_values[:, i] = np.where(intrinsic_value > discounted_future_values, intrinsic_value, early_exercise_value)\n",
        "\n",
        "# Calculate Greeks\n",
        "delta = (call_values[:, 1] - call_values[:, 0]) / (S0 * 0.01)  # Change in option price due to a 1% change in stock price\n",
        "vega = (call_values[:, 1] - call_values[:, 0]) / (sigma * 0.01)  # Change in option price due to a 1% change in volatility\n",
        "theta = -(call_values[:, 1:] - call_values[:, :-1]).mean(axis=1) * N / 252  # Change in option price due to the passage of time (1 day)\n",
        "rho = (call_values[:, 0] - call_values[:, 0] * np.exp(-r * T)) / (r * T)  # Change in option price due to a 1% change in interest rate\n",
        "\n",
        "# Calculate and print results\n",
        "option_price = call_values[:, 0].mean()\n",
        "print(\"Monte Carlo American Call Option Price:\", option_price)\n",
        "\n",
        "print(\"\\nMonte Carlo American Call Option Greeks:\")\n",
        "print(\"Delta:\", delta.mean())\n",
        "print(\"Vega:\", vega.mean())\n",
        "print(\"Theta:\", theta.mean())\n",
        "print(\"Rho:\", rho.mean())\n"
      ],
      "metadata": {
        "colab": {
          "base_uri": "https://localhost:8080/"
        },
        "id": "r0URUZvLrQwW",
        "outputId": "843bd6cb-4a1f-4c19-815a-7f01fc460753"
      },
      "execution_count": null,
      "outputs": [
        {
          "output_type": "stream",
          "name": "stdout",
          "text": [
            "Monte Carlo American Call Option Price: 17.994017896263333\n",
            "\n",
            "Monte Carlo American Call Option Greeks:\n",
            "Delta: 0.009999453977952839\n",
            "Vega: 4.999726988976421\n",
            "Theta: 0.02796835545158757\n",
            "Rho: 17.88202241792407\n"
          ]
        }
      ]
    },
    {
      "cell_type": "markdown",
      "source": [
        "*See the python code below for results*\n",
        "\n",
        "**(a) Compute the sensitivity of the American call option price to a 5% increase in volatility (from 20% to 25%). How do prices change with respect to the change in volatility?**\n",
        "\n",
        "The price of the American Call option increases from \\$17.99 to \\$22.08 when the volatility rises by 5% (from 20% to 25%). This suggests that the option becomes more valuable with increased volatility, likely due to the greater potential for larger price swings in the underlying asset, which enhances the option's chances of becoming in-the-money and thereby contributing to its higher market price.\n",
        "\n",
        "**(b) Comment on the potential differential impact of this change for the American call option.**\n",
        "\n",
        "The differential impact of the change in volatility (from 20% to 25%) on the American call option's price increase (from \\$17.99 to \\$22.08) highlights how susceptible the option is to changes in the market. The larger price increase with the volatility change underscores the option's responsiveness to market uncertainty, where higher volatility amplifies both the potential for substantial gains and the risk of losses. This asymmetrical impact emphasizes the necessity for investors to properly assess risk-reward trade-offs and use appropriate risk management measures to successfully navigate shifting market dynamics. This leverage inherent in options makes them more attractive in volatile markets (Schumacher, 2020)."
      ],
      "metadata": {
        "id": "6QDgGMMn5HU6"
      }
    },
    {
      "cell_type": "code",
      "source": [
        "import numpy as np\n",
        "from scipy.stats import norm\n",
        "\n",
        "# Given parameters\n",
        "S0 = 100  # Initial stock price\n",
        "r = 0.05  # Risk-free rate\n",
        "sigma_base = 0.20  # Base volatility (20%)\n",
        "T = 3 / 12  # Time horizon in years\n",
        "N = 90  # Number of trading days in 3 months\n",
        "M = 10000  # Number of simulations\n",
        "\n",
        "# Generate random price movements\n",
        "np.random.seed(42)\n",
        "rand_numbers = np.random.normal(size=(M, N))\n",
        "\n",
        "# Calculate daily returns for the base volatility\n",
        "daily_returns_base = np.exp((r - 0.5 * sigma_base ** 2) * (1 / N) + sigma_base * np.sqrt(1 / N) * rand_numbers)\n",
        "\n",
        "# Create stock price paths for the base volatility\n",
        "stock_paths_base = np.zeros((M, N + 1))\n",
        "stock_paths_base[:, 0] = S0\n",
        "for i in range(1, N + 1):\n",
        "    stock_paths_base[:, i] = stock_paths_base[:, i - 1] * daily_returns_base[:, i - 1]\n",
        "\n",
        "# Calculate option payoffs at each time step for the base volatility\n",
        "call_payoffs_base = np.maximum(stock_paths_base - S0, 0)\n",
        "\n",
        "# Initialize option value arrays for the base volatility\n",
        "call_values_base = np.zeros((M, N + 1))\n",
        "call_values_base[:, -1] = call_payoffs_base[:, -1]\n",
        "\n",
        "# Calculate option values at each time step using backward induction for the base volatility\n",
        "for i in range(N - 1, -1, -1):\n",
        "    intrinsic_value = np.maximum(stock_paths_base[:, i] - S0, 0)\n",
        "    discounted_future_values = np.exp(-r * (1 / N)) * call_values_base[:, i + 1]\n",
        "    early_exercise_value = np.maximum(intrinsic_value, discounted_future_values)\n",
        "    call_values_base[:, i] = np.where(intrinsic_value > discounted_future_values, intrinsic_value, early_exercise_value)\n",
        "\n",
        "# Calculate option price for the base volatility\n",
        "option_price_base = call_values_base[:, 0].mean()\n",
        "\n",
        "# Now, let's compute the option price for the increased volatility (25%)\n",
        "sigma_increased = 0.25  # Increased volatility\n",
        "daily_returns_increased = np.exp((r - 0.5 * sigma_increased ** 2) * (1 / N) + sigma_increased * np.sqrt(1 / N) * rand_numbers)\n",
        "stock_paths_increased = np.zeros((M, N + 1))\n",
        "stock_paths_increased[:, 0] = S0\n",
        "for i in range(1, N + 1):\n",
        "    stock_paths_increased[:, i] = stock_paths_increased[:, i - 1] * daily_returns_increased[:, i - 1]\n",
        "\n",
        "call_payoffs_increased = np.maximum(stock_paths_increased - S0, 0)\n",
        "call_values_increased = np.zeros((M, N + 1))\n",
        "call_values_increased[:, -1] = call_payoffs_increased[:, -1]\n",
        "\n",
        "for i in range(N - 1, -1, -1):\n",
        "    intrinsic_value = np.maximum(stock_paths_increased[:, i] - S0, 0)\n",
        "    discounted_future_values = np.exp(-r * (1 / N)) * call_values_increased[:, i + 1]\n",
        "    early_exercise_value = np.maximum(intrinsic_value, discounted_future_values)\n",
        "    call_values_increased[:, i] = np.where(intrinsic_value > discounted_future_values, intrinsic_value, early_exercise_value)\n",
        "\n",
        "option_price_increased = call_values_increased[:, 0].mean()\n",
        "\n",
        "# Calculate sensitivity to the increase in volatility\n",
        "volatility_change = sigma_increased - sigma_base\n",
        "price_change = option_price_increased - option_price_base\n",
        "\n",
        "print(\"Base Volatility:\", sigma_base)\n",
        "print(\"Base Option Price:\", option_price_base)\n",
        "print(\"Increased Volatility:\", sigma_increased)\n",
        "print(\"Increased Option Price:\", option_price_increased)\n",
        "print(\"Sensitivity to 5% Increase in Volatility:\", price_change)\n"
      ],
      "metadata": {
        "colab": {
          "base_uri": "https://localhost:8080/"
        },
        "id": "WAIUIt9C5HwZ",
        "outputId": "7d0dfd86-2882-425a-9900-9c2f71c37551"
      },
      "execution_count": null,
      "outputs": [
        {
          "output_type": "stream",
          "name": "stdout",
          "text": [
            "Base Volatility: 0.2\n",
            "Base Option Price: 17.994017896263333\n",
            "Increased Volatility: 0.25\n",
            "Increased Option Price: 22.07727744996827\n",
            "Sensitivity to 5% Increase in Volatility: 4.083259553704938\n"
          ]
        }
      ]
    },
    {
      "cell_type": "markdown",
      "source": [
        "**5. Team member B will use Monte-Carlo methods with regular GBM process and daily simulations on an American Call option. Remember to answer the different questions in the original GWP1: price (Q5), calculate delta (Q6) and vega (Q7) only for the Put option case.**\n",
        "\n"
      ],
      "metadata": {
        "id": "kJY3wsmeaHFb"
      }
    },
    {
      "cell_type": "markdown",
      "source": [
        "**6. Team member C will take as input the code from team members for the previous 2 questions and use it to:**\n",
        "\n",
        "**a. Under Monte-Carlo simulation for daily time-steps, repeat questions 15 and 16 from GWP1 (i.e., price options for different levels of moneyness for American Calls and Puts).**\n",
        "\n",
        "**b. Graph the relationship between option price and moneyness for call and put (i.e., 2 different graphs).**"
      ],
      "metadata": {
        "id": "l15GdDq_aJmP"
      }
    },
    {
      "cell_type": "markdown",
      "source": [
        "**Step 3 – Finally, you will work on hedging under Black-Scholes for European options, as well as pricing different exotic instruments.**\n"
      ],
      "metadata": {
        "id": "bCVnIvN5sLzN"
      }
    },
    {
      "cell_type": "markdown",
      "source": [
        "**7. Team member A will work with European options with same characteristics as GWP1 under different levels of moneyness:**\n",
        "\n",
        "**a. Price an European Call option with 110% moneyness and an European Put with 95% moneyness using Black-Scholes. Both have 3 months maturity.**\n",
        "\n",
        "The result of pricing an European Call option with 110% moneyness as well as an European Put option with 95% moneyness using the Black-Scholes model leads to a Call price of \\$1.19 and a Put price of \\$1.53. This suggests that the Call option is relatively cheaper than the Put option. This difference in pricing stems from the intrinsic properties of options. A Call option gives the holder the right to buy the underlying asset at a specific price, which is more valuable when the asset's price is expected to increase. Conversely, a Put option allows the holder to sell the asset at a predetermined price, thus being more valuable when the asset's price is anticipated to decrease.\n",
        "\n",
        "This observation is further supported by the computed deltas of 0.22 for the Call option and -0.25 for the Put option. The call option's positive delta denotes a positive correlation with the movement of the underlying stock's price, whereas the put option's negative delta suggests a weak association. This observation is further supported by the computed deltas of 0.22 for the Call option and -0.25 for the Put option. The call option's positive delta denotes a positive correlation with the movement of the underlying stock's price, whereas the put option's negative delta suggests a weak association.\n",
        "\n",
        "\n",
        "**b. (i) You build a portfolio that buys the previous Call and Put options. What is the delta of the portfolio?**\n",
        "\n",
        "A major consideration for building a portfolio that buys the previous Call and Put options would be to create a combination of the two options. This is because such a portfolio could capture potential gains from both upward and downward price movements while managing risk exposure.\n",
        "\n",
        "To calculate the delta of the portfolio that buys both the European Call option with 110% moneyness and the European Put option with 95% moneyness, you can simply sum up the deltas of the individual options in the portfolio (Portfolio Delta = Call Delta + Put Delta Portfolio Delta = 0.22 + (-0.25) = -0.03). Since the delta represents the sensitivity of the option price to changes in the underlying asset price, the portfolio delta indicates how the portfolio's value would change for a small change in the underlying asset price.\n",
        "\n",
        "**b(ii) How would you delta-hedge this portfolio?**\n",
        "\n",
        "We would need to take a short position in the underlying company to counteract the negative delta in order to delta-hedge this portfolio because the portfolio delta is slightly negative (-0.03). By doing this, the changes in portfolio value brought on by slight variations in stock price can be reduced. The total sensitivity of the portfolio to minute variations in stock price would be decreased, resulting in a more evenly distributed risk exposure (Marroni & Perdomo, 2014).\n",
        "\n",
        "**c. (i) You build a second portfolio that buys the previous Call option and sells the Put. What is the delta of the portfolio?**\n",
        "\n",
        "When you build a portfolio that buys the European Call option with 110% moneyness and simultaneously sells (writes) the European Put option with 95% moneyness, you are effectively creating a position known as a \"synthetic long stock\" or \"covered call.\" In this scenario, the portfolio delta would change due to the opposing directions of the Call and Put option deltas.  In this scenario, the portfolio delta would change due to the opposing directions of the Call and Put option deltas. We calculate the new delta of the portfolio, subtract the delta of the Put option from the delta of the Call option (0.22 - (-0.25) = 0.47).\n",
        "\n",
        "**(c) (ii) How would you delta-hedge this portfolio?**\n",
        "\n",
        "We would need to take a long position in the underlying company in order to align the portfolio's delta with the positive direction in order to delta-hedge this portfolio, which has a positive portfolio delta of 0.47. The portfolio can successfully counter the combined negative delta from the sold Put option and produce a positive overall delta by retaining a long position in the stock. This delta-hedging method seeks to achieve a more balanced risk exposure by controlling the portfolio's susceptibility to minute variations in stock price (Marroni & Perdomo, 2014)."
      ],
      "metadata": {
        "id": "WU1IpkPYsVL8"
      }
    },
    {
      "cell_type": "code",
      "source": [
        "import numpy as np\n",
        "from scipy.stats import norm\n",
        "\n",
        "# Given parameters\n",
        "S = 100  # Initial stock price\n",
        "K_call = 100 * 1.10  # Strike price for European Call with 110% moneyness\n",
        "K_put = 100 * 0.95   # Strike price for European Put with 95% moneyness\n",
        "r = 0.05  # Risk-free rate\n",
        "sigma = 0.20  # Volatility\n",
        "T = 0.25  # Time to maturity (3 months in years)\n",
        "\n",
        "# Black-Scholes formula for European option price\n",
        "def european_option_price(S, K, r, sigma, T, option_type='call'):\n",
        "    d1 = (np.log(S / K) + (r + 0.5 * sigma ** 2) * T) / (sigma * np.sqrt(T))\n",
        "    d2 = d1 - sigma * np.sqrt(T)\n",
        "\n",
        "    if option_type == 'call':\n",
        "        option_price = S * norm.cdf(d1) - K * np.exp(-r * T) * norm.cdf(d2)\n",
        "    elif option_type == 'put':\n",
        "        option_price = K * np.exp(-r * T) * norm.cdf(-d2) - S * norm.cdf(-d1)\n",
        "\n",
        "    return option_price\n",
        "\n",
        "# Calculate option prices\n",
        "call_price = european_option_price(S, K_call, r, sigma, T, option_type='call')\n",
        "put_price = european_option_price(S, K_put, r, sigma, T, option_type='put')\n",
        "\n",
        "# Calculate Greeks\n",
        "def european_option_greeks(S, K, r, sigma, T, option_type='call'):\n",
        "    d1 = (np.log(S / K) + (r + 0.5 * sigma ** 2) * T) / (sigma * np.sqrt(T))\n",
        "    d2 = d1 - sigma * np.sqrt(T)\n",
        "\n",
        "    delta = norm.cdf(d1) if option_type == 'call' else norm.cdf(d1) - 1\n",
        "    gamma = norm.pdf(d1) / (S * sigma * np.sqrt(T))\n",
        "    vega = S * norm.pdf(d1) * np.sqrt(T)\n",
        "    theta = -S * norm.pdf(d1) * sigma / (2 * np.sqrt(T)) - r * K * np.exp(-r * T) * norm.cdf(d2) if option_type == 'call' else -S * norm.pdf(d1) * sigma / (2 * np.sqrt(T)) + r * K * np.exp(-r * T) * norm.cdf(-d2)\n",
        "    rho = K * T * np.exp(-r * T) * norm.cdf(d2) if option_type == 'call' else -K * T * np.exp(-r * T) * norm.cdf(-d2)\n",
        "\n",
        "    return delta, gamma, vega, theta, rho\n",
        "\n",
        "# Calculate Greeks for European Call and Put options\n",
        "call_delta, call_gamma, call_vega, call_theta, call_rho = european_option_greeks(S, K_call, r, sigma, T, option_type='call')\n",
        "put_delta, put_gamma, put_vega, put_theta, put_rho = european_option_greeks(S, K_put, r, sigma, T, option_type='put')\n",
        "\n",
        "# Create a table\n",
        "import pandas as pd\n",
        "\n",
        "data = {'Option Type': ['European Call', 'European Put'],\n",
        "        'Price': [call_price, put_price],\n",
        "        'Delta': [call_delta, put_delta],\n",
        "        'Gamma': [call_gamma, put_gamma],\n",
        "        'Vega': [call_vega, put_vega],\n",
        "        'Theta': [call_theta, put_theta],\n",
        "        'Rho': [call_rho, put_rho]}\n",
        "\n",
        "df = pd.DataFrame(data)\n",
        "\n",
        "print(df)\n"
      ],
      "metadata": {
        "colab": {
          "base_uri": "https://localhost:8080/"
        },
        "id": "_MKO-tduEVu3",
        "outputId": "750e18e1-89ec-4230-d7e6-36d50b0c5870"
      },
      "execution_count": null,
      "outputs": [
        {
          "output_type": "stream",
          "name": "stdout",
          "text": [
            "     Option Type     Price     Delta     Gamma       Vega     Theta       Rho\n",
            "0  European Call  1.191132  0.218255  0.029474  14.737028 -6.926527  5.158580\n",
            "1   European Put  1.534260 -0.245748  0.031488  15.743988 -4.992145 -6.527253\n"
          ]
        }
      ]
    },
    {
      "cell_type": "code",
      "source": [
        "from tabulate import tabulate\n",
        "\n",
        "# Prepare your data as a list of lists\n",
        "table_data = [\n",
        "    [\"7\", \"Call\", \"European\", \"BS\", \"110%\", \"1.19\", \"0.22\"],\n",
        "    [\"7\", \"Put\", \"European\", \"BS\", \"95%\", \"1.53\", \"-0.25\"],\n",
        "]\n",
        "\n",
        "# Define the title for the table\n",
        "table_title = \"Summary of Results\"\n",
        "\n",
        "# Define the table headers\n",
        "headers = [\"Q #\", \"Type\", \"Exer\", \"GWP 2 Method\", \"Moneyness\", \"GWP 2 Price\", \"Delta\"]\n",
        "\n",
        "# Format the table using tabulate\n",
        "table = tabulate(table_data, headers=headers, tablefmt=\"grid\")\n",
        "\n",
        "# Add the title above the table\n",
        "table_with_title = f\"{table_title}\\n\\n{table}\"\n",
        "\n",
        "# Print the formatted table\n",
        "print(table_with_title)\n"
      ],
      "metadata": {
        "colab": {
          "base_uri": "https://localhost:8080/"
        },
        "id": "nHM0jh2bEydS",
        "outputId": "7af4751a-f161-4765-8e4a-fb0d6f4e5e41"
      },
      "execution_count": null,
      "outputs": [
        {
          "output_type": "stream",
          "name": "stdout",
          "text": [
            "Summary of Results\n",
            "\n",
            "+-------+--------+----------+----------------+-------------+---------------+---------+\n",
            "|   Q # | Type   | Exer     | GWP 2 Method   | Moneyness   |   GWP 2 Price |   Delta |\n",
            "+=======+========+==========+================+=============+===============+=========+\n",
            "|     7 | Call   | European | BS             | 110%        |          1.19 |    0.22 |\n",
            "+-------+--------+----------+----------------+-------------+---------------+---------+\n",
            "|     7 | Put    | European | BS             | 95%         |          1.53 |   -0.25 |\n",
            "+-------+--------+----------+----------------+-------------+---------------+---------+\n"
          ]
        }
      ]
    },
    {
      "cell_type": "code",
      "source": [
        "# Given deltas of the Call and Put options\n",
        "call_delta = 0.22\n",
        "put_delta = -0.25\n",
        "\n",
        "# Calculate the delta of the portfolio\n",
        "portfolio_delta = call_delta + put_delta\n",
        "\n",
        "print(\"Delta of the Portfolio:\", portfolio_delta)\n"
      ],
      "metadata": {
        "colab": {
          "base_uri": "https://localhost:8080/"
        },
        "id": "vqzc62blJd0k",
        "outputId": "074f63b1-ffe1-4afe-bc49-6bd0dfc52884"
      },
      "execution_count": null,
      "outputs": [
        {
          "output_type": "stream",
          "name": "stdout",
          "text": [
            "Delta of the Portfolio: -0.03\n"
          ]
        }
      ]
    },
    {
      "cell_type": "code",
      "source": [
        "# Given deltas of the Call and Put options\n",
        "call_delta = 0.22\n",
        "put_delta = -0.25\n",
        "\n",
        "# Calculate the new delta of the portfolio\n",
        "new_portfolio_delta = call_delta - put_delta\n",
        "\n",
        "print(\"New Delta of the Portfolio:\", new_portfolio_delta)\n"
      ],
      "metadata": {
        "colab": {
          "base_uri": "https://localhost:8080/"
        },
        "id": "jNTkQ_HXKrp3",
        "outputId": "cebc10a8-e876-40e2-a816-910ca46d9c54"
      },
      "execution_count": null,
      "outputs": [
        {
          "output_type": "stream",
          "name": "stdout",
          "text": [
            "New Delta of the Portfolio: 0.47\n"
          ]
        }
      ]
    },
    {
      "cell_type": "markdown",
      "source": [
        "**8. Team member B will work with Monte-Carlo methods with daily time steps to price an Up-and-Out (UAO) barrier option. The option is currently ATM with a barrier level of 141 and:**\n",
        "\n",
        "(S0) = $100, Risk-free rate (r) = 5%, Volatility (σ) = 20%, Time horizon (T) = 8 months (in years=8/12),:\n",
        "\n",
        "\n",
        "\n"
      ],
      "metadata": {
        "id": "V53PypngZ8Vm"
      }
    },
    {
      "cell_type": "markdown",
      "source": [
        "**9. Team member C will repeat the previous question (barrier option), in this case considering an Up-and-In barrier (UAI) option with the same barrier as before. Specifically:**\n",
        "\n",
        "**a. Compute the price of the UAI option.**\n",
        "\n",
        "**b. Compute the price of the vanilla option (same characteristics, no barrier)**\n",
        "\n",
        "**c. What is the relationship between the prices of the UAO, UAI, and vanilla option? Explain.**\n"
      ],
      "metadata": {
        "id": "xQn-JmsdZ_N9"
      }
    },
    {
      "cell_type": "markdown",
      "source": [
        "###REFERENCES\n",
        "Schumacher, J. M. (2020). *Introduction to Financial Derivatives: Modeling, Pricing and Hedging.* Open Press TiU: https://digi-courses.com/openpresstiu-introduction-to-financial-derivatives/\n"
      ],
      "metadata": {
        "id": "1gSKL5LU7ud2"
      }
    },
    {
      "cell_type": "markdown",
      "source": [
        "FinCampus Lecture Hall. Pricing an American Option: 3 Period Binomial Tree Model. *YouTube,* 26 May 2013, https://www.youtube.com/watch?v=35n7TICJbLc."
      ],
      "metadata": {
        "id": "S-GSqZRZ8LkL"
      }
    },
    {
      "cell_type": "markdown",
      "source": [
        "Marroni L. & I. Perdomo (2014). *Pricing and Hedging Financial Derivatives: A Guide for Practitioners.* Wiley"
      ],
      "metadata": {
        "id": "yu1js2ydNigt"
      }
    }
  ],
  "metadata": {
    "colab": {
      "provenance": [],
      "include_colab_link": true
    },
    "kernelspec": {
      "display_name": "Python 3 (ipykernel)",
      "language": "python",
      "name": "python3"
    },
    "language_info": {
      "codemirror_mode": {
        "name": "ipython",
        "version": 3
      },
      "file_extension": ".py",
      "mimetype": "text/x-python",
      "name": "python",
      "nbconvert_exporter": "python",
      "pygments_lexer": "ipython3",
      "version": "3.9.12"
    }
  },
  "nbformat": 4,
  "nbformat_minor": 0
}